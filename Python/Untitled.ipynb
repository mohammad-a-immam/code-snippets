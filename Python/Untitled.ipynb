{
 "cells": [
  {
   "cell_type": "markdown",
   "metadata": {},
   "source": [
    "# Creating XML Texts & Files"
   ]
  },
  {
   "cell_type": "markdown",
   "metadata": {},
   "source": [
    "XML necessary imports for python"
   ]
  },
  {
   "cell_type": "code",
   "execution_count": 8,
   "metadata": {},
   "outputs": [],
   "source": [
    "import xml.etree.cElementTree as ET"
   ]
  },
  {
   "cell_type": "markdown",
   "metadata": {},
   "source": [
    "Create and form the document"
   ]
  },
  {
   "cell_type": "code",
   "execution_count": 9,
   "metadata": {},
   "outputs": [],
   "source": [
    "top = ET.Element('root')\n",
    "\n",
    "comment = Comment('Generated for PyMOTW')\n",
    "top.append(comment)\n",
    "\n",
    "child = SubElement(top, 'child')\n",
    "child.text = 'This child contains text.'\n",
    "\n",
    "child_with_tail = SubElement(top, 'child_with_tail')\n",
    "child_with_tail.text = 'This child has regular text.'\n",
    "child_with_tail.tail = 'And \"tail\" text.'\n",
    "\n",
    "child_with_entity_ref = SubElement(top, 'child_with_entity_ref')\n",
    "child_with_entity_ref.text = 'This & that'"
   ]
  },
  {
   "cell_type": "code",
   "execution_count": 10,
   "metadata": {},
   "outputs": [],
   "source": [
    "tree = ET.ElementTree(top)"
   ]
  },
  {
   "cell_type": "markdown",
   "metadata": {},
   "source": [
    "Print Test for debugging"
   ]
  },
  {
   "cell_type": "code",
   "execution_count": 11,
   "metadata": {
    "scrolled": true
   },
   "outputs": [
    {
     "name": "stdout",
     "output_type": "stream",
     "text": [
      "b'<root><!--Generated for PyMOTW--><child>This child contains text.</child><child_with_tail>This child has regular text.</child_with_tail>And \"tail\" text.<child_with_entity_ref>This &amp; that</child_with_entity_ref></root>'\n"
     ]
    }
   ],
   "source": [
    "\n",
    "print (tostring(top))"
   ]
  },
  {
   "cell_type": "code",
   "execution_count": 14,
   "metadata": {},
   "outputs": [],
   "source": [
    "tree.write('somewhere.xml')"
   ]
  },
  {
   "cell_type": "markdown",
   "metadata": {},
   "source": [
    "Your file should now be written to somewhere.xml in the same folder."
   ]
  }
 ],
 "metadata": {
  "kernelspec": {
   "display_name": "Python 3",
   "language": "python",
   "name": "python3"
  },
  "language_info": {
   "codemirror_mode": {
    "name": "ipython",
    "version": 3
   },
   "file_extension": ".py",
   "mimetype": "text/x-python",
   "name": "python",
   "nbconvert_exporter": "python",
   "pygments_lexer": "ipython3",
   "version": "3.6.9"
  }
 },
 "nbformat": 4,
 "nbformat_minor": 2
}
